{
 "cells": [
  {
   "cell_type": "markdown",
   "id": "dddd93c3-91e1-470a-955f-fd0dce856cd9",
   "metadata": {},
   "source": [
    "# VWAP"
   ]
  },
  {
   "cell_type": "markdown",
   "id": "018a79df-b29c-43bf-8c6e-2dbc5e322d77",
   "metadata": {},
   "source": [
    "## 1 Notations\n",
    "* $VWAP_{t} = \\frac{\\sum_{k \\in S}^{t} TP_{k} \\cdot V_{k}}{\\sum_{k \\in S}^{t} V_{k}}$\n",
    "* $Z_{t} = \\frac{CP_{t} - VWAP_{t}}{\\sigma_{t}}$\n",
    "* $V_{t}$ = Volume at t-th minute bar\n",
    "* $TP_{t}$ = Typical price = $\\frac{HP_{t} + LP_{t} + CP_{t}}{3}$\n",
    "* $HP_{t}$ = High price\n",
    "* $LP_{t}$ = Low price\n",
    "* $CP_{t}$ = Closing price at t-th minute bar\n",
    "* $\\sigma_{t}$ = Rolling standard deviation of ($CP_{t} - VWAP_{t}$)"
   ]
  },
  {
   "cell_type": "markdown",
   "id": "efc373a5-b60f-47e8-8586-a1b9004b4089",
   "metadata": {},
   "source": [
    "## 2 Mean Reversion Strategy\n",
    "* Position: long only (for now)\n",
    "* Entry: $Z_{t} <$ `z_entry` $\\in [-2.0, -1.5]$\n",
    "* Exit: $Z_{t} >$ `z_exit` $\\in [-0.5, -0.2]$\n",
    "* Sigma stop: $Z_{t} <$ `z_stop` $\\in [-3.0, -3.5]$\n",
    "* Time stop: max holding time $<$ T $\\in [60, 120]$ minutes\n",
    "* Reset: $Z_{t} >$ `z_reset` $\\in [-0.2, -0.0]$\n",
    "* Normalization: trade after $t \\in [30, 60]$ minutes\n",
    "* Flat by the end of the day"
   ]
  },
  {
   "cell_type": "markdown",
   "id": "52926f26-1ca1-4b41-8915-f11749aa597f",
   "metadata": {},
   "source": [
    "## 3 Codes"
   ]
  },
  {
   "cell_type": "code",
   "execution_count": 1,
   "id": "44dd64e7-3516-43a0-a268-0c7627569ecb",
   "metadata": {},
   "outputs": [],
   "source": [
    "import numpy as np\n",
    "import pandas as pd\n",
    "import pandas_ta as ta\n",
    "import matplotlib.pyplot as plt"
   ]
  },
  {
   "cell_type": "markdown",
   "id": "024901ce-14f8-4dfd-a655-e74c3e3ea4e1",
   "metadata": {},
   "source": [
    "### 3.1 Data Management\n",
    "* Each csv file has its name in the `\"YYYY-MM-DD.csv\"` format\n",
    "* It has columns: `[\"ticker\", \"volume\", \"open\", \"close\", \"high\", \"low\", \"window_start\", \"transactions\"]`\n",
    "* `\"ticker\"` includes the minute bar aggregate of every ticker symbol of US stocks on the given day\n",
    "* `\"window_start\"` is epoch time in ns"
   ]
  },
  {
   "cell_type": "code",
   "execution_count": 2,
   "id": "17d36b19-604d-4f22-a24a-381715ca0bea",
   "metadata": {},
   "outputs": [],
   "source": [
    "def datafeed(file_name, ticker_symbol):\n",
    "    df = pd.read_csv(file_name)\n",
    "    df = df[df[\"ticker\"] == ticker_symbol]\n",
    "    df[\"window_start\"] = pd.to_datetime(df[\"window_start\"], unit=\"ns\")\n",
    "    df = df.set_index(\"window_start\").sort_index()\n",
    "    df = df.between_time(\"09:30\", \"16:00\")\n",
    "    return df"
   ]
  },
  {
   "cell_type": "markdown",
   "id": "81cc5400-25d9-4ec5-b5f2-fdc5a353264b",
   "metadata": {},
   "source": [
    "### 3.2 VWAP Calculation\n",
    "* For the rolling standard deviation, we choose `window=60` for default value, which means 1-hour rolling"
   ]
  },
  {
   "cell_type": "code",
   "execution_count": 3,
   "id": "ccf43eb3-30f3-4741-9624-947327b92e4e",
   "metadata": {},
   "outputs": [],
   "source": [
    "def compute_typical_price(df):\n",
    "    df[\"typical\"] = (df[\"high\"] + df[\"low\"] + df[\"close\"]) / 3\n",
    "    return df"
   ]
  },
  {
   "cell_type": "code",
   "execution_count": 4,
   "id": "7c8d8ff7-708c-4c80-a3bb-232e3371cd76",
   "metadata": {},
   "outputs": [],
   "source": [
    "def compute_vwap(df):\n",
    "    df[\"vwap\"] = ta.vwap(high=df[\"high\"], low=df[\"low\"], close=df[\"close\"], volume=df[\"volume\"])\n",
    "    return df"
   ]
  },
  {
   "cell_type": "code",
   "execution_count": 5,
   "id": "0f60b937-ad47-4c81-a2a5-9041ee0e68c6",
   "metadata": {},
   "outputs": [],
   "source": [
    "def compute_rolling_std(df, window=60):\n",
    "    df[\"rolling_std\"] = (df[\"close\"] - df[\"vwap\"]).rolling(window=window).std()\n",
    "    return df"
   ]
  },
  {
   "cell_type": "code",
   "execution_count": 6,
   "id": "fba973b1-a3d8-4b2c-b8a7-0815bb3a7ce3",
   "metadata": {},
   "outputs": [],
   "source": [
    "def compute_z_score(df):\n",
    "    df[\"z\"] = (df[\"close\"] - df[\"vwap\"]) / df[\"rolling_std\"]\n",
    "    return df"
   ]
  },
  {
   "cell_type": "markdown",
   "id": "bd75920f-8607-49bb-a8b5-49a0f3046ec0",
   "metadata": {},
   "source": [
    "### 3.3 Transaction Log\n",
    "* We initialize a log with a cash amount of choice and a position of 0\n",
    "* We use a helper function to calculate the real time equity based on position and price"
   ]
  },
  {
   "cell_type": "code",
   "execution_count": 7,
   "id": "1ad2cc7d-0cb3-4c30-ab82-84fed3835325",
   "metadata": {},
   "outputs": [],
   "source": [
    "def create_log(df_data, cash):\n",
    "    df_log = pd.DataFrame(np.nan, index=df_data.index, columns=[\"cash\", \"position\", \"price\", \"equity\", \"status\"])\n",
    "    df_log.at[df_log.index[0], \"cash\"] = cash\n",
    "    df_log.at[df_log.index[0], \"position\"] = 0\n",
    "    df_log.at[df_log.index[0], \"price\"] = df_data.at[df_data.index[0], \"close\"]\n",
    "    df_log[\"status\"] = \"OK\"\n",
    "    return df_log"
   ]
  },
  {
   "cell_type": "code",
   "execution_count": 8,
   "id": "7137d6f6-3ba2-4ccd-946a-9eeef12ebcc2",
   "metadata": {},
   "outputs": [],
   "source": [
    "def update_equity(df):\n",
    "    df[\"equity\"] = df[\"position\"] * df[\"price\"] + df[\"cash\"]\n",
    "    return df"
   ]
  },
  {
   "cell_type": "markdown",
   "id": "fbfec810-ae3f-4b75-b09b-def5ac982133",
   "metadata": {},
   "source": [
    "### 3.4 Paper Broker Orders\n",
    "* Because of the small size of the trade, each order is \"all in\" for now\n",
    "* We simultaneously write to the log whenever an order is executed"
   ]
  },
  {
   "cell_type": "code",
   "execution_count": 9,
   "id": "fb7afd54-169a-4a8c-b2f2-4918898f8a89",
   "metadata": {},
   "outputs": [],
   "source": [
    "def broker_buy(df_data, df_log, quantity, index):\n",
    "    buy_price = df_data.at[index, \"close\"]\n",
    "    df_log.at[index, \"price\"] = buy_price\n",
    "    df_log.at[index, \"position\"] += quantity\n",
    "    df_log.at[index, \"cash\"] -= buy_price * quantity\n",
    "    update_equity(df_log)\n",
    "    return df_log"
   ]
  },
  {
   "cell_type": "code",
   "execution_count": 10,
   "id": "5bdeeb67-40b0-403c-adf9-38409652f1b0",
   "metadata": {},
   "outputs": [],
   "source": [
    "def broker_sell(df_data, df_log, quantity, index):\n",
    "    sell_price = df_data.at[index, \"close\"]\n",
    "    df_log.at[index, \"price\"] = sell_price\n",
    "    df_log.at[index, \"position\"] -= quantity\n",
    "    df_log.at[index, \"cash\"] += sell_price * quantity\n",
    "    update_equity(df_log)\n",
    "    return df_log"
   ]
  },
  {
   "cell_type": "markdown",
   "id": "d20590b7-bbaa-4cde-80c9-bc42f37e751c",
   "metadata": {},
   "source": [
    "### 3.5 Strategy Execution\n",
    "* For now, the execution only works with the log because of the paper broker orders\n",
    "* There are more effective ways to start trading beyond a strict 1-hour ban, but we will use the simple rule for now"
   ]
  },
  {
   "cell_type": "code",
   "execution_count": 11,
   "id": "4a5e7f4d-ab68-4536-bce2-1dab07a8711a",
   "metadata": {},
   "outputs": [],
   "source": [
    "def vwap_entry(df_data, df_log, index, z_entry=-2.0):\n",
    "    if df_log.at[index, \"status\"] == \"OK\" and df_data.at[index, \"z\"] <= z_entry and df_log.at[index, \"cash\"] > 0:\n",
    "        quantity = df_log.at[index, \"cash\"] // df_data.at[index, \"close\"]\n",
    "        df_log = broker_buy(df_data, df_log, quantity, index)\n",
    "    return df_log"
   ]
  },
  {
   "cell_type": "code",
   "execution_count": 12,
   "id": "b65763bd-f876-4d63-b11d-2eccf34914a5",
   "metadata": {},
   "outputs": [],
   "source": [
    "def vwap_exit(df_data, df_log, index, z_exit=-0.5):\n",
    "    if df_data.at[index, \"z\"] >= z_exit:\n",
    "        quantity = df_log.at[index, \"position\"]\n",
    "        df_log = broker_sell(df_data, df_log, quantity, index)\n",
    "    return df_log"
   ]
  },
  {
   "cell_type": "code",
   "execution_count": 13,
   "id": "2b9f7087-d986-43bc-aa71-b84614321135",
   "metadata": {},
   "outputs": [],
   "source": [
    "def vwap_sigma_stop(df_data, df_log, index, z_stop=-3.0):\n",
    "    if df_data.at[index, \"z\"] <= z_stop:\n",
    "        quantity = df_log.at[index, \"position\"]\n",
    "        df_log = broker_sell(df_data, df_log, quantity, index)\n",
    "        df_log.loc[index:, \"status\"] = \"Cooldown\"\n",
    "    return df_log"
   ]
  },
  {
   "cell_type": "code",
   "execution_count": 14,
   "id": "803436f2-fcaa-4cb1-aa64-29f549fa5e27",
   "metadata": {},
   "outputs": [],
   "source": [
    "#def vwap_time_stop(df_data, df_log, index, stop_interval=120):"
   ]
  },
  {
   "cell_type": "code",
   "execution_count": 15,
   "id": "04c81e8a-b91d-46c5-a8e9-ba0f047f98d3",
   "metadata": {},
   "outputs": [],
   "source": [
    "def vwap_reset(df_data, df_log, index, z_reset=-0.2):\n",
    "    if df_log.at[index, \"status\"] == \"Cooldown\" and df_data.at[index, \"z\"] >= z_reset:\n",
    "        df_log.loc[index:, \"status\"] = \"OK\"\n",
    "    return df_log"
   ]
  },
  {
   "cell_type": "code",
   "execution_count": 16,
   "id": "eec98057-7648-4d2a-8e25-b997801b81cd",
   "metadata": {},
   "outputs": [],
   "source": [
    "def vwap_normalization(df_log, normalization_interval=60):\n",
    "    start = df_log.index[0]\n",
    "    end = start + pd.Timedelta(minutes=normalization_interval)\n",
    "    df_log.loc[start:end, \"status\"] = \"Normalization\"\n",
    "    return df_log"
   ]
  },
  {
   "cell_type": "code",
   "execution_count": 17,
   "id": "d82fa974-7f9e-4318-b32d-a4a69c478b3e",
   "metadata": {},
   "outputs": [],
   "source": [
    "def vwap_flatten(df_data, df_log):\n",
    "    last_index = df_log.index[-1]\n",
    "    if df_log.at[last_index, \"position\"] != 0:\n",
    "        quantity = df_log.at[last_index, \"position\"]\n",
    "        df_log = broker_sell(df_data, df_log, quantity, last_index)\n",
    "    return df_log"
   ]
  },
  {
   "cell_type": "markdown",
   "id": "c7f72517-1ef1-41d4-8ccb-5d2559e5581e",
   "metadata": {},
   "source": [
    "## 4 Backtest"
   ]
  },
  {
   "cell_type": "code",
   "execution_count": 18,
   "id": "c8217925-a387-4f7f-9f1f-4e4728987121",
   "metadata": {},
   "outputs": [],
   "source": [
    "backtest_data = datafeed(\"data/2025-09-03.csv\", \"META\")\n",
    "\n",
    "backtest_data = compute_typical_price(backtest_data)\n",
    "backtest_data = compute_vwap(backtest_data)\n",
    "backtest_data = compute_rolling_std(backtest_data)\n",
    "backtest_data = compute_z_score(backtest_data)"
   ]
  },
  {
   "cell_type": "code",
   "execution_count": 19,
   "id": "b88e36c4-85fc-48a6-bb99-db88fc87cf3d",
   "metadata": {},
   "outputs": [],
   "source": [
    "backtest_log = create_log(backtest_data, 10000.00)"
   ]
  },
  {
   "cell_type": "code",
   "execution_count": 20,
   "id": "180467d0-7ece-4b75-86a9-ed1263eaab45",
   "metadata": {},
   "outputs": [],
   "source": [
    "backtest_log = vwap_normalization(backtest_log)\n",
    "\n",
    "for idx, i in enumerate(backtest_log.index):\n",
    "    if idx == 0:\n",
    "        continue\n",
    "        \n",
    "    prev_i = backtest_log.index[idx-1]\n",
    "    backtest_log.at[i, \"cash\"] = backtest_log.at[prev_i, \"cash\"]\n",
    "    backtest_log.at[i, \"position\"] = backtest_log.at[prev_i, \"position\"]\n",
    "    backtest_log.at[i, \"price\"] = backtest_data.at[i, \"close\"]\n",
    "    \n",
    "    backtest_log = vwap_entry(backtest_data, backtest_log, i, -1.5)\n",
    "    backtest_log = vwap_exit(backtest_data, backtest_log, i, -0.2)\n",
    "    backtest_log = vwap_sigma_stop(backtest_data, backtest_log, i, -3.5)\n",
    "    backtest_log = vwap_reset(backtest_data, backtest_log, i, -0.2)\n",
    "\n",
    "backtest_log = vwap_flatten(backtest_data, backtest_log)\n",
    "backtest_log = update_equity(backtest_log)"
   ]
  },
  {
   "cell_type": "markdown",
   "id": "441e3e89-afc0-4611-b194-e3b200f2299b",
   "metadata": {},
   "source": [
    "## 5 Result Visualization"
   ]
  },
  {
   "cell_type": "code",
   "execution_count": 21,
   "id": "dd090449-db7e-45ad-a4a4-0af6e23839e6",
   "metadata": {},
   "outputs": [
    {
     "data": {
      "text/html": [
       "<div>\n",
       "<style scoped>\n",
       "    .dataframe tbody tr th:only-of-type {\n",
       "        vertical-align: middle;\n",
       "    }\n",
       "\n",
       "    .dataframe tbody tr th {\n",
       "        vertical-align: top;\n",
       "    }\n",
       "\n",
       "    .dataframe thead th {\n",
       "        text-align: right;\n",
       "    }\n",
       "</style>\n",
       "<table border=\"1\" class=\"dataframe\">\n",
       "  <thead>\n",
       "    <tr style=\"text-align: right;\">\n",
       "      <th></th>\n",
       "      <th>ticker</th>\n",
       "      <th>volume</th>\n",
       "      <th>open</th>\n",
       "      <th>close</th>\n",
       "      <th>high</th>\n",
       "      <th>low</th>\n",
       "      <th>transactions</th>\n",
       "      <th>typical</th>\n",
       "      <th>vwap</th>\n",
       "      <th>rolling_std</th>\n",
       "      <th>z</th>\n",
       "    </tr>\n",
       "    <tr>\n",
       "      <th>window_start</th>\n",
       "      <th></th>\n",
       "      <th></th>\n",
       "      <th></th>\n",
       "      <th></th>\n",
       "      <th></th>\n",
       "      <th></th>\n",
       "      <th></th>\n",
       "      <th></th>\n",
       "      <th></th>\n",
       "      <th></th>\n",
       "      <th></th>\n",
       "    </tr>\n",
       "  </thead>\n",
       "  <tbody>\n",
       "    <tr>\n",
       "      <th>2025-09-03 09:40:00</th>\n",
       "      <td>META</td>\n",
       "      <td>263</td>\n",
       "      <td>741.0000</td>\n",
       "      <td>741.0000</td>\n",
       "      <td>741.00</td>\n",
       "      <td>741.0000</td>\n",
       "      <td>15</td>\n",
       "      <td>741.000000</td>\n",
       "      <td>741.000000</td>\n",
       "      <td>NaN</td>\n",
       "      <td>NaN</td>\n",
       "    </tr>\n",
       "    <tr>\n",
       "      <th>2025-09-03 11:00:00</th>\n",
       "      <td>META</td>\n",
       "      <td>1802</td>\n",
       "      <td>741.4400</td>\n",
       "      <td>740.8000</td>\n",
       "      <td>741.44</td>\n",
       "      <td>740.8000</td>\n",
       "      <td>71</td>\n",
       "      <td>741.013333</td>\n",
       "      <td>741.011635</td>\n",
       "      <td>NaN</td>\n",
       "      <td>NaN</td>\n",
       "    </tr>\n",
       "    <tr>\n",
       "      <th>2025-09-03 11:01:00</th>\n",
       "      <td>META</td>\n",
       "      <td>301</td>\n",
       "      <td>741.3600</td>\n",
       "      <td>741.3600</td>\n",
       "      <td>741.36</td>\n",
       "      <td>741.3600</td>\n",
       "      <td>9</td>\n",
       "      <td>741.360000</td>\n",
       "      <td>741.055954</td>\n",
       "      <td>NaN</td>\n",
       "      <td>NaN</td>\n",
       "    </tr>\n",
       "    <tr>\n",
       "      <th>2025-09-03 11:07:00</th>\n",
       "      <td>META</td>\n",
       "      <td>2154</td>\n",
       "      <td>741.4800</td>\n",
       "      <td>741.4900</td>\n",
       "      <td>741.49</td>\n",
       "      <td>741.4800</td>\n",
       "      <td>105</td>\n",
       "      <td>741.486667</td>\n",
       "      <td>741.261209</td>\n",
       "      <td>NaN</td>\n",
       "      <td>NaN</td>\n",
       "    </tr>\n",
       "    <tr>\n",
       "      <th>2025-09-03 11:10:00</th>\n",
       "      <td>META</td>\n",
       "      <td>528</td>\n",
       "      <td>741.0800</td>\n",
       "      <td>741.2000</td>\n",
       "      <td>741.20</td>\n",
       "      <td>741.0800</td>\n",
       "      <td>9</td>\n",
       "      <td>741.160000</td>\n",
       "      <td>741.250623</td>\n",
       "      <td>NaN</td>\n",
       "      <td>NaN</td>\n",
       "    </tr>\n",
       "    <tr>\n",
       "      <th>...</th>\n",
       "      <td>...</td>\n",
       "      <td>...</td>\n",
       "      <td>...</td>\n",
       "      <td>...</td>\n",
       "      <td>...</td>\n",
       "      <td>...</td>\n",
       "      <td>...</td>\n",
       "      <td>...</td>\n",
       "      <td>...</td>\n",
       "      <td>...</td>\n",
       "      <td>...</td>\n",
       "    </tr>\n",
       "    <tr>\n",
       "      <th>2025-09-03 15:56:00</th>\n",
       "      <td>META</td>\n",
       "      <td>10107</td>\n",
       "      <td>736.0520</td>\n",
       "      <td>736.1985</td>\n",
       "      <td>736.35</td>\n",
       "      <td>735.9500</td>\n",
       "      <td>411</td>\n",
       "      <td>736.166167</td>\n",
       "      <td>736.942697</td>\n",
       "      <td>0.909336</td>\n",
       "      <td>-0.818396</td>\n",
       "    </tr>\n",
       "    <tr>\n",
       "      <th>2025-09-03 15:57:00</th>\n",
       "      <td>META</td>\n",
       "      <td>13179</td>\n",
       "      <td>736.2999</td>\n",
       "      <td>735.6400</td>\n",
       "      <td>736.30</td>\n",
       "      <td>735.6400</td>\n",
       "      <td>479</td>\n",
       "      <td>735.860000</td>\n",
       "      <td>736.938404</td>\n",
       "      <td>0.907808</td>\n",
       "      <td>-1.430263</td>\n",
       "    </tr>\n",
       "    <tr>\n",
       "      <th>2025-09-03 15:58:00</th>\n",
       "      <td>META</td>\n",
       "      <td>8129</td>\n",
       "      <td>735.7700</td>\n",
       "      <td>735.9750</td>\n",
       "      <td>736.07</td>\n",
       "      <td>735.7105</td>\n",
       "      <td>337</td>\n",
       "      <td>735.918500</td>\n",
       "      <td>736.935916</td>\n",
       "      <td>0.907020</td>\n",
       "      <td>-1.059422</td>\n",
       "    </tr>\n",
       "    <tr>\n",
       "      <th>2025-09-03 15:59:00</th>\n",
       "      <td>META</td>\n",
       "      <td>7597</td>\n",
       "      <td>735.9000</td>\n",
       "      <td>736.0400</td>\n",
       "      <td>736.13</td>\n",
       "      <td>735.8400</td>\n",
       "      <td>327</td>\n",
       "      <td>736.003333</td>\n",
       "      <td>736.933795</td>\n",
       "      <td>0.906920</td>\n",
       "      <td>-0.985528</td>\n",
       "    </tr>\n",
       "    <tr>\n",
       "      <th>2025-09-03 16:00:00</th>\n",
       "      <td>META</td>\n",
       "      <td>13643</td>\n",
       "      <td>736.0500</td>\n",
       "      <td>736.1850</td>\n",
       "      <td>736.30</td>\n",
       "      <td>735.8300</td>\n",
       "      <td>532</td>\n",
       "      <td>736.105000</td>\n",
       "      <td>736.930423</td>\n",
       "      <td>0.909413</td>\n",
       "      <td>-0.819675</td>\n",
       "    </tr>\n",
       "  </tbody>\n",
       "</table>\n",
       "<p>212 rows × 11 columns</p>\n",
       "</div>"
      ],
      "text/plain": [
       "                    ticker  volume      open     close    high       low  \\\n",
       "window_start                                                               \n",
       "2025-09-03 09:40:00   META     263  741.0000  741.0000  741.00  741.0000   \n",
       "2025-09-03 11:00:00   META    1802  741.4400  740.8000  741.44  740.8000   \n",
       "2025-09-03 11:01:00   META     301  741.3600  741.3600  741.36  741.3600   \n",
       "2025-09-03 11:07:00   META    2154  741.4800  741.4900  741.49  741.4800   \n",
       "2025-09-03 11:10:00   META     528  741.0800  741.2000  741.20  741.0800   \n",
       "...                    ...     ...       ...       ...     ...       ...   \n",
       "2025-09-03 15:56:00   META   10107  736.0520  736.1985  736.35  735.9500   \n",
       "2025-09-03 15:57:00   META   13179  736.2999  735.6400  736.30  735.6400   \n",
       "2025-09-03 15:58:00   META    8129  735.7700  735.9750  736.07  735.7105   \n",
       "2025-09-03 15:59:00   META    7597  735.9000  736.0400  736.13  735.8400   \n",
       "2025-09-03 16:00:00   META   13643  736.0500  736.1850  736.30  735.8300   \n",
       "\n",
       "                     transactions     typical        vwap  rolling_std  \\\n",
       "window_start                                                             \n",
       "2025-09-03 09:40:00            15  741.000000  741.000000          NaN   \n",
       "2025-09-03 11:00:00            71  741.013333  741.011635          NaN   \n",
       "2025-09-03 11:01:00             9  741.360000  741.055954          NaN   \n",
       "2025-09-03 11:07:00           105  741.486667  741.261209          NaN   \n",
       "2025-09-03 11:10:00             9  741.160000  741.250623          NaN   \n",
       "...                           ...         ...         ...          ...   \n",
       "2025-09-03 15:56:00           411  736.166167  736.942697     0.909336   \n",
       "2025-09-03 15:57:00           479  735.860000  736.938404     0.907808   \n",
       "2025-09-03 15:58:00           337  735.918500  736.935916     0.907020   \n",
       "2025-09-03 15:59:00           327  736.003333  736.933795     0.906920   \n",
       "2025-09-03 16:00:00           532  736.105000  736.930423     0.909413   \n",
       "\n",
       "                            z  \n",
       "window_start                   \n",
       "2025-09-03 09:40:00       NaN  \n",
       "2025-09-03 11:00:00       NaN  \n",
       "2025-09-03 11:01:00       NaN  \n",
       "2025-09-03 11:07:00       NaN  \n",
       "2025-09-03 11:10:00       NaN  \n",
       "...                       ...  \n",
       "2025-09-03 15:56:00 -0.818396  \n",
       "2025-09-03 15:57:00 -1.430263  \n",
       "2025-09-03 15:58:00 -1.059422  \n",
       "2025-09-03 15:59:00 -0.985528  \n",
       "2025-09-03 16:00:00 -0.819675  \n",
       "\n",
       "[212 rows x 11 columns]"
      ]
     },
     "execution_count": 21,
     "metadata": {},
     "output_type": "execute_result"
    }
   ],
   "source": [
    "backtest_data"
   ]
  },
  {
   "cell_type": "code",
   "execution_count": 22,
   "id": "c9151419-4e06-4293-886f-5e485bbd9cf5",
   "metadata": {},
   "outputs": [
    {
     "data": {
      "text/html": [
       "<div>\n",
       "<style scoped>\n",
       "    .dataframe tbody tr th:only-of-type {\n",
       "        vertical-align: middle;\n",
       "    }\n",
       "\n",
       "    .dataframe tbody tr th {\n",
       "        vertical-align: top;\n",
       "    }\n",
       "\n",
       "    .dataframe thead th {\n",
       "        text-align: right;\n",
       "    }\n",
       "</style>\n",
       "<table border=\"1\" class=\"dataframe\">\n",
       "  <thead>\n",
       "    <tr style=\"text-align: right;\">\n",
       "      <th></th>\n",
       "      <th>cash</th>\n",
       "      <th>position</th>\n",
       "      <th>price</th>\n",
       "      <th>equity</th>\n",
       "      <th>status</th>\n",
       "    </tr>\n",
       "    <tr>\n",
       "      <th>window_start</th>\n",
       "      <th></th>\n",
       "      <th></th>\n",
       "      <th></th>\n",
       "      <th></th>\n",
       "      <th></th>\n",
       "    </tr>\n",
       "  </thead>\n",
       "  <tbody>\n",
       "    <tr>\n",
       "      <th>2025-09-03 09:40:00</th>\n",
       "      <td>10000.0000</td>\n",
       "      <td>0.0</td>\n",
       "      <td>741.0000</td>\n",
       "      <td>10000.0000</td>\n",
       "      <td>Normalization</td>\n",
       "    </tr>\n",
       "    <tr>\n",
       "      <th>2025-09-03 11:00:00</th>\n",
       "      <td>10000.0000</td>\n",
       "      <td>0.0</td>\n",
       "      <td>740.8000</td>\n",
       "      <td>10000.0000</td>\n",
       "      <td>OK</td>\n",
       "    </tr>\n",
       "    <tr>\n",
       "      <th>2025-09-03 11:01:00</th>\n",
       "      <td>10000.0000</td>\n",
       "      <td>0.0</td>\n",
       "      <td>741.3600</td>\n",
       "      <td>10000.0000</td>\n",
       "      <td>OK</td>\n",
       "    </tr>\n",
       "    <tr>\n",
       "      <th>2025-09-03 11:07:00</th>\n",
       "      <td>10000.0000</td>\n",
       "      <td>0.0</td>\n",
       "      <td>741.4900</td>\n",
       "      <td>10000.0000</td>\n",
       "      <td>OK</td>\n",
       "    </tr>\n",
       "    <tr>\n",
       "      <th>2025-09-03 11:10:00</th>\n",
       "      <td>10000.0000</td>\n",
       "      <td>0.0</td>\n",
       "      <td>741.2000</td>\n",
       "      <td>10000.0000</td>\n",
       "      <td>OK</td>\n",
       "    </tr>\n",
       "    <tr>\n",
       "      <th>...</th>\n",
       "      <td>...</td>\n",
       "      <td>...</td>\n",
       "      <td>...</td>\n",
       "      <td>...</td>\n",
       "      <td>...</td>\n",
       "    </tr>\n",
       "    <tr>\n",
       "      <th>2025-09-03 15:56:00</th>\n",
       "      <td>527.7502</td>\n",
       "      <td>13.0</td>\n",
       "      <td>736.1985</td>\n",
       "      <td>10098.3307</td>\n",
       "      <td>OK</td>\n",
       "    </tr>\n",
       "    <tr>\n",
       "      <th>2025-09-03 15:57:00</th>\n",
       "      <td>527.7502</td>\n",
       "      <td>13.0</td>\n",
       "      <td>735.6400</td>\n",
       "      <td>10091.0702</td>\n",
       "      <td>OK</td>\n",
       "    </tr>\n",
       "    <tr>\n",
       "      <th>2025-09-03 15:58:00</th>\n",
       "      <td>527.7502</td>\n",
       "      <td>13.0</td>\n",
       "      <td>735.9750</td>\n",
       "      <td>10095.4252</td>\n",
       "      <td>OK</td>\n",
       "    </tr>\n",
       "    <tr>\n",
       "      <th>2025-09-03 15:59:00</th>\n",
       "      <td>527.7502</td>\n",
       "      <td>13.0</td>\n",
       "      <td>736.0400</td>\n",
       "      <td>10096.2702</td>\n",
       "      <td>OK</td>\n",
       "    </tr>\n",
       "    <tr>\n",
       "      <th>2025-09-03 16:00:00</th>\n",
       "      <td>10098.1552</td>\n",
       "      <td>0.0</td>\n",
       "      <td>736.1850</td>\n",
       "      <td>10098.1552</td>\n",
       "      <td>OK</td>\n",
       "    </tr>\n",
       "  </tbody>\n",
       "</table>\n",
       "<p>212 rows × 5 columns</p>\n",
       "</div>"
      ],
      "text/plain": [
       "                           cash  position     price      equity         status\n",
       "window_start                                                                  \n",
       "2025-09-03 09:40:00  10000.0000       0.0  741.0000  10000.0000  Normalization\n",
       "2025-09-03 11:00:00  10000.0000       0.0  740.8000  10000.0000             OK\n",
       "2025-09-03 11:01:00  10000.0000       0.0  741.3600  10000.0000             OK\n",
       "2025-09-03 11:07:00  10000.0000       0.0  741.4900  10000.0000             OK\n",
       "2025-09-03 11:10:00  10000.0000       0.0  741.2000  10000.0000             OK\n",
       "...                         ...       ...       ...         ...            ...\n",
       "2025-09-03 15:56:00    527.7502      13.0  736.1985  10098.3307             OK\n",
       "2025-09-03 15:57:00    527.7502      13.0  735.6400  10091.0702             OK\n",
       "2025-09-03 15:58:00    527.7502      13.0  735.9750  10095.4252             OK\n",
       "2025-09-03 15:59:00    527.7502      13.0  736.0400  10096.2702             OK\n",
       "2025-09-03 16:00:00  10098.1552       0.0  736.1850  10098.1552             OK\n",
       "\n",
       "[212 rows x 5 columns]"
      ]
     },
     "execution_count": 22,
     "metadata": {},
     "output_type": "execute_result"
    }
   ],
   "source": [
    "backtest_log"
   ]
  },
  {
   "cell_type": "markdown",
   "id": "cda2211c-b4b3-4b10-ad01-baf93063489c",
   "metadata": {},
   "source": [
    "## 6 Notes"
   ]
  },
  {
   "cell_type": "markdown",
   "id": "5b05fc98-588f-4ce7-8a9c-5ff9f6f64277",
   "metadata": {},
   "source": [
    "### 6.1 To-Do List\n",
    "* Adjust `datafeed` to accept real time data from `polygon.io`\n",
    "* Update broker order functions to connect with broker API\n",
    "* Optimize `enumerate` in backtest\n",
    "* Implement `vwap_time_stop` function\n",
    "* Figure out the live minute bar vs closing price in backtest"
   ]
  },
  {
   "cell_type": "markdown",
   "id": "c3b8a784-f3e7-4124-a843-ffa96287caad",
   "metadata": {},
   "source": [
    "### 6.2 Ideal Characteristics for VWAP Mean Reversion\n",
    "* High liquidity / large market cap\n",
    "* Range-bound or non-trending behavior intraday\n",
    "* Regular volume profiles\n",
    "* Moderate volatility: enough to extend, not too much to snap off\n",
    "* VWAP “respected” historically as support/resistance\n",
    "* Example candidates: SPY, QQQ, AAPL, MSFT, GOOG, AMZN, META"
   ]
  },
  {
   "cell_type": "code",
   "execution_count": null,
   "id": "009180f3-80af-4bbc-899e-9c91b3e8e0ad",
   "metadata": {},
   "outputs": [],
   "source": []
  }
 ],
 "metadata": {
  "kernelspec": {
   "display_name": "Python [conda env:base] *",
   "language": "python",
   "name": "conda-base-py"
  },
  "language_info": {
   "codemirror_mode": {
    "name": "ipython",
    "version": 3
   },
   "file_extension": ".py",
   "mimetype": "text/x-python",
   "name": "python",
   "nbconvert_exporter": "python",
   "pygments_lexer": "ipython3",
   "version": "3.13.5"
  }
 },
 "nbformat": 4,
 "nbformat_minor": 5
}
