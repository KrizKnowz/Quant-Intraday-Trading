{
 "cells": [
  {
   "cell_type": "markdown",
   "id": "9e5240f0-fc9a-4759-a342-2079770e3290",
   "metadata": {},
   "source": [
    "# Bollinger Bands & RSI\n",
    "* This is a strategy built based on VWAP by replacing the SMA (simple moving average) with VWAP for Bollinger Bands, which may filter noise better than SMA-based bands, especially for intraday strategies."
   ]
  },
  {
   "cell_type": "markdown",
   "id": "11038c01-5cd8-489c-ae9f-506959b3a6e9",
   "metadata": {},
   "source": [
    "## 1 Notations"
   ]
  },
  {
   "cell_type": "markdown",
   "id": "29377be4-effc-4138-8fd8-0aabd78e2224",
   "metadata": {},
   "source": [
    "### 1.1 VWAP\n",
    "* $VWAP_{t} = \\frac{\\sum_{k \\in S}^{t} TP_{k} \\cdot V_{k}}{\\sum_{k \\in S}^{t} V_{k}}$\n",
    "* $Z_{t} = \\frac{CP_{t} - VWAP_{t}}{\\sigma_{t}}$\n",
    "* $V_{t}$ = Volume at t-th minute bar\n",
    "* $TP_{t}$ = Typical price = $\\frac{HP_{t} + LP_{t} + CP_{t}}{3}$\n",
    "* $HP_{t}$ = High price\n",
    "* $LP_{t}$ = Low price\n",
    "* $CP_{t}$ = Closing price at t-th minute bar\n",
    "* $\\sigma_{t}$ = Rolling standard deviation of ($CP_{t} - VWAP_{t}$)"
   ]
  },
  {
   "cell_type": "markdown",
   "id": "a3ca6c86-afe0-4102-929e-c0f44239605b",
   "metadata": {},
   "source": [
    "### 1.2 Bollinger Bands\n",
    "* $MA_{t} = \\frac{1}{n_{BB}}\\sum_{k \\in S}^{t} P_{k}$\n",
    "* $BB_{upper,t} = VWAP_{t} + k \\cdot \\sigma_{t}$\n",
    "* $BB_{lower,t} = VWAP_{t} - k \\cdot \\sigma_{t}$\n",
    "* $k$ = Standard deviation multiplier"
   ]
  },
  {
   "cell_type": "markdown",
   "id": "06a057e5-04e4-4fc4-a965-e3cd932d7e04",
   "metadata": {},
   "source": [
    "### 1.3 RSI\n",
    "* $\\Delta P_{t} = P_{t} - P_{t-1}$\n",
    "* $G_{t}$ = Separate gain = $max(\\Delta P_{t}, 0)$\n",
    "* $L_{t}$ = Separate loss = $max(-\\Delta P_{t}, 0)$\n",
    "* $AG_{t}$ = Smoothed average gain = $\\frac{AG_{t-1} \\cdot (n_{RSI} - 1) + G_{t}}{n_{RSI}}$\n",
    "* $AL_{t}$ = Smoothed avergae loss = $\\frac{AL_{t-1} \\cdot (n_{RSI} - 1) + L_{t}}{n_{RSI}}$\n",
    "* $RS_{t}$ = Relative strength = $\\frac{AG_{t}}{AL_{t}}$\n",
    "* $RSI_{t} = 100 - \\frac{100}{1 + RS_{t}}$"
   ]
  },
  {
   "cell_type": "markdown",
   "id": "aa73d4d0-6bb4-4782-bfa3-bd4f261af649",
   "metadata": {},
   "source": [
    "## 2 Mean Reversion Strategy\n",
    "* Position: long only (for now)\n",
    "* Entry: if $P_{t} < BB_{lower,t}$ ($Z_{t} < -2$) and $RSI_{t} < 30$\n",
    "* Exit: if $P_{t} \\ge VWAP_{t}$ ($Z_{t} \\ge 0$) or $RSI_{t} \\ge 50$\n",
    "* Look back period for Bollinger Bands $n_{BB} = 30$ (rolling standard deviation)\n",
    "* Look back period for RSI $n_{RSI} = 13$\n",
    "* Standard deviation multiplier $k = 2$"
   ]
  },
  {
   "cell_type": "markdown",
   "id": "223a965f-c761-4fe1-b7f9-8e3aff6734d5",
   "metadata": {},
   "source": [
    "## 3 Codes"
   ]
  },
  {
   "cell_type": "code",
   "execution_count": 1,
   "id": "bae14629-dae0-460f-ab53-201886c359e3",
   "metadata": {},
   "outputs": [],
   "source": [
    "import numpy as np\n",
    "import pandas as pd\n",
    "import pandas_ta as ta\n",
    "import matplotlib.pyplot as plt"
   ]
  },
  {
   "cell_type": "markdown",
   "id": "960fc329-5fc2-44c6-bf90-88f42acc49b8",
   "metadata": {},
   "source": [
    "### 3.1 Data Management\n",
    "* Each csv file has its name in the `\"YYYY-MM-DD.csv\"` format\n",
    "* It has columns: `[\"ticker\", \"volume\", \"open\", \"close\", \"high\", \"low\", \"window_start\", \"transactions\"]`\n",
    "* `\"ticker\"` includes the minute bar aggregate of every ticker symbol of US stocks on the given day\n",
    "* `\"window_start\"` is epoch time in ns"
   ]
  },
  {
   "cell_type": "code",
   "execution_count": 2,
   "id": "0759a375-d29a-4640-9814-fd174430751f",
   "metadata": {},
   "outputs": [],
   "source": [
    "def datafeed(file_name, ticker_symbol):\n",
    "    df = pd.read_csv(file_name)\n",
    "    df = df[df[\"ticker\"] == ticker_symbol]\n",
    "    df[\"window_start\"] = pd.to_datetime(df[\"window_start\"], unit=\"ns\")\n",
    "    df = df.set_index(\"window_start\").sort_index()\n",
    "    df = df.between_time(\"09:30\", \"16:00\")\n",
    "    return df"
   ]
  },
  {
   "cell_type": "markdown",
   "id": "cee06d8b-5eb4-428b-8abf-a4d847973160",
   "metadata": {},
   "source": [
    "### 3.2 VWAP\n",
    "* For the rolling standard deviation, we choose `window=30` according $n_{BB} = 30$"
   ]
  },
  {
   "cell_type": "code",
   "execution_count": 3,
   "id": "ae8cebdd-62a0-4665-9e82-eb353e65bdda",
   "metadata": {},
   "outputs": [],
   "source": [
    "def compute_typical_price(df):\n",
    "    df[\"typical\"] = (df[\"high\"] + df[\"low\"] + df[\"close\"]) / 3\n",
    "    return df"
   ]
  },
  {
   "cell_type": "code",
   "execution_count": 4,
   "id": "b645e4a2-2d7a-4717-a957-a0acf54d79d8",
   "metadata": {},
   "outputs": [],
   "source": [
    "def compute_vwap(df):\n",
    "    df[\"vwap\"] = ta.vwap(high=df[\"high\"], low=df[\"low\"], close=df[\"close\"], volume=df[\"volume\"])\n",
    "    return df"
   ]
  },
  {
   "cell_type": "code",
   "execution_count": 5,
   "id": "b6457862-2639-4d98-898f-06b9837f16e6",
   "metadata": {},
   "outputs": [],
   "source": [
    "def compute_rolling_std(df, n_bb=30):\n",
    "    df[\"rolling_std\"] = (df[\"close\"] - df[\"vwap\"]).rolling(window=n_bb).std()\n",
    "    return df"
   ]
  },
  {
   "cell_type": "code",
   "execution_count": 6,
   "id": "4872f3cb-ea38-4258-82db-7620bed2225a",
   "metadata": {},
   "outputs": [],
   "source": [
    "def compute_z_score(df):\n",
    "    df[\"z\"] = (df[\"close\"] - df[\"vwap\"]) / df[\"rolling_std\"]\n",
    "    return df"
   ]
  },
  {
   "cell_type": "markdown",
   "id": "957c2b39-a8ea-4bad-a5a6-17fb9a2303c4",
   "metadata": {},
   "source": [
    "### 3.3 Bollinger Bands"
   ]
  },
  {
   "cell_type": "code",
   "execution_count": 7,
   "id": "0e774edf-b204-444d-a7be-cafbb72bd5b8",
   "metadata": {},
   "outputs": [],
   "source": [
    "def compute_moving_avg(df, n=30):\n",
    "    df[\"moving_avg\"] = df[\"close\"].rolling(window=n).mean()\n",
    "    return df"
   ]
  },
  {
   "cell_type": "code",
   "execution_count": 8,
   "id": "b0615ef1-e959-456e-b859-997f6516f9a4",
   "metadata": {},
   "outputs": [],
   "source": [
    "def compute_bb(df, k=2):\n",
    "    df[\"bb_upper\"] = df[\"vwap\"] + k * df[\"rolling_std\"]\n",
    "    df[\"bb_lower\"] = df[\"vwap\"] - k * df[\"rolling_std\"]\n",
    "    return df"
   ]
  },
  {
   "cell_type": "markdown",
   "id": "5311893f-e59a-42e9-b339-3ae5b6c92efd",
   "metadata": {},
   "source": [
    "### 3.4 RSI"
   ]
  },
  {
   "cell_type": "code",
   "execution_count": 9,
   "id": "856def35-eea4-4c04-bef6-622a1fa66289",
   "metadata": {},
   "outputs": [],
   "source": [
    "def compute_rsi(df, n_rsi=13):\n",
    "    df[\"rsi\"] = ta.rsi(df[\"close\"], length=n_rsi)\n",
    "    return df"
   ]
  },
  {
   "cell_type": "markdown",
   "id": "b3b4bdd4-5d09-4d97-b3cd-3e374443ba55",
   "metadata": {},
   "source": [
    "### 3.5 Transaction Log\n",
    "* We initialize a log with a cash amount of choice and a position of 0\n",
    "* We use a helper function to calculate the real time equity based on position and price"
   ]
  },
  {
   "cell_type": "code",
   "execution_count": 10,
   "id": "a3d4b9a8-527c-41b9-a08d-a4ed077724ba",
   "metadata": {},
   "outputs": [],
   "source": [
    "def create_log(df_data, cash):\n",
    "    df_log = pd.DataFrame(np.nan, index=df_data.index, columns=[\"cash\", \"position\", \"price\", \"equity\", \"status\"])\n",
    "    df_log.at[df_log.index[0], \"cash\"] = cash\n",
    "    df_log.at[df_log.index[0], \"position\"] = 0\n",
    "    df_log.at[df_log.index[0], \"price\"] = df_data.at[df_data.index[0], \"close\"]\n",
    "    df_log[\"status\"] = \"OK\"\n",
    "    return df_log"
   ]
  },
  {
   "cell_type": "code",
   "execution_count": 11,
   "id": "cde766ae-b93f-4284-80b1-1f48ef5a1641",
   "metadata": {},
   "outputs": [],
   "source": [
    "def update_equity(df):\n",
    "    df[\"equity\"] = df[\"position\"] * df[\"price\"] + df[\"cash\"]\n",
    "    return df"
   ]
  },
  {
   "cell_type": "markdown",
   "id": "72381d5b-398a-44b3-87c9-3bb58960338c",
   "metadata": {},
   "source": [
    "### 3.6 Paper Broker Orders\n",
    "* Because of the small size of the trade, each order is \"all in\" for now\n",
    "* We simultaneously write to the log whenever an order is executed"
   ]
  },
  {
   "cell_type": "code",
   "execution_count": 12,
   "id": "2f3f71e1-8697-4dcc-ac9a-07cb2b59bdb4",
   "metadata": {},
   "outputs": [],
   "source": [
    "def broker_buy(df_data, df_log, quantity, index):\n",
    "    buy_price = df_data.at[index, \"close\"]\n",
    "    df_log.at[index, \"price\"] = buy_price\n",
    "    df_log.at[index, \"position\"] += quantity\n",
    "    df_log.at[index, \"cash\"] -= buy_price * quantity\n",
    "    update_equity(df_log)\n",
    "    return df_log"
   ]
  },
  {
   "cell_type": "code",
   "execution_count": 13,
   "id": "a1567c8c-84cc-4711-bf90-4fd5b9dc2f89",
   "metadata": {},
   "outputs": [],
   "source": [
    "def broker_sell(df_data, df_log, quantity, index):\n",
    "    sell_price = df_data.at[index, \"close\"]\n",
    "    df_log.at[index, \"price\"] = sell_price\n",
    "    df_log.at[index, \"position\"] -= quantity\n",
    "    df_log.at[index, \"cash\"] += sell_price * quantity\n",
    "    update_equity(df_log)\n",
    "    return df_log"
   ]
  },
  {
   "cell_type": "markdown",
   "id": "5fc2fb58-e804-4b67-b332-59c5b71a3946",
   "metadata": {},
   "source": [
    "### 3.7 Strategy Execution\n",
    "* For now, the execution only works with the log because of the paper broker orders\n",
    "* We will set the entry condition according to Bollinger Bands, but equivalently we can use z score as mentioned."
   ]
  },
  {
   "cell_type": "code",
   "execution_count": 14,
   "id": "2e00cfb7-c280-44c3-a98b-9feaa233cfb4",
   "metadata": {},
   "outputs": [],
   "source": [
    "def bbrsi_entry(df_data, df_log, index, rsi=30):\n",
    "    if df_log.at[index, \"status\"] == \"OK\" and df_data.at[index, \"close\"] <= df_data.at[index, \"bb_lower\"] and df_data.at[index, \"rsi\"] <= rsi and df_log.at[index, \"cash\"] > 0:\n",
    "        quantity = df_log.at[index, \"cash\"] // df_data.at[index, \"close\"]\n",
    "        df_log = broker_buy(df_data, df_log, quantity, index)\n",
    "    return df_log"
   ]
  },
  {
   "cell_type": "code",
   "execution_count": 15,
   "id": "f0b9855f-850c-4c6e-a1ac-16e0c2b98c52",
   "metadata": {},
   "outputs": [],
   "source": [
    "def bbrsi_exit(df_data, df_log, index, rsi=50):\n",
    "    if df_data.at[index, \"close\"] >= df_data.at[index, \"vwap\"] or df_data.at[index, \"rsi\"] >= rsi:\n",
    "        quantity = df_log.at[index, \"position\"]\n",
    "        df_log = broker_sell(df_data, df_log, quantity, index)\n",
    "    return df_log"
   ]
  },
  {
   "cell_type": "code",
   "execution_count": 16,
   "id": "49f6da96-6881-4f7c-8415-80a3c77cdda7",
   "metadata": {},
   "outputs": [],
   "source": [
    "def vwap_sigma_stop(df_data, df_log, index, z_stop=-3.0):\n",
    "    if df_log.at[index, \"position\"] != 0 and df_data.at[index, \"z\"] <= z_stop:\n",
    "        quantity = df_log.at[index, \"position\"]\n",
    "        df_log = broker_sell(df_data, df_log, quantity, index)\n",
    "        df_log.loc[index:, \"status\"] = \"Cooldown\"\n",
    "    return df_log"
   ]
  },
  {
   "cell_type": "code",
   "execution_count": 17,
   "id": "c8f8ad34-3989-4613-91dc-2887d3cc5e39",
   "metadata": {},
   "outputs": [],
   "source": [
    "# def vwap_time_stop(df_data, df_log, index, stop_interval=120):"
   ]
  },
  {
   "cell_type": "code",
   "execution_count": 18,
   "id": "418dfac9-bbc7-4c15-af28-2ef92d564525",
   "metadata": {},
   "outputs": [],
   "source": [
    "def vwap_reset(df_data, df_log, index, z_reset=-0.2):\n",
    "    if df_log.at[index, \"status\"] == \"Cooldown\" and df_data.at[index, \"z\"] >= z_reset:\n",
    "        df_log.loc[index:, \"status\"] = \"OK\"\n",
    "    return df_log"
   ]
  },
  {
   "cell_type": "code",
   "execution_count": 19,
   "id": "9c43fd85-a22e-4894-b00a-d4b25e5ae8c2",
   "metadata": {},
   "outputs": [],
   "source": [
    "def vwap_normalization(df_log, normalization_interval=60):\n",
    "    start = df_log.index[0]\n",
    "    end = start + pd.Timedelta(minutes=normalization_interval)\n",
    "    df_log.loc[start:end, \"status\"] = \"Normalization\"\n",
    "    return df_log"
   ]
  },
  {
   "cell_type": "code",
   "execution_count": 20,
   "id": "e5286dcb-f2ab-43a1-84d8-40cd561d49eb",
   "metadata": {},
   "outputs": [],
   "source": [
    "def flatten(df_data, df_log):\n",
    "    last_index = df_log.index[-1]\n",
    "    if df_log.at[last_index, \"position\"] != 0:\n",
    "        quantity = df_log.at[last_index, \"position\"]\n",
    "        df_log = broker_sell(df_data, df_log, quantity, last_index)\n",
    "    return df_log"
   ]
  },
  {
   "cell_type": "markdown",
   "id": "8c8b42a9-a095-457a-8892-b35c73248923",
   "metadata": {},
   "source": [
    "## 4 Backtest"
   ]
  },
  {
   "cell_type": "code",
   "execution_count": 21,
   "id": "6106ed19-b2da-4bbd-ba49-6829d267ad7b",
   "metadata": {},
   "outputs": [],
   "source": [
    "backtest_data = datafeed(\"data/2025-09-03.csv\", \"SPY\")\n",
    "\n",
    "backtest_data = compute_typical_price(backtest_data)\n",
    "backtest_data = compute_vwap(backtest_data)\n",
    "backtest_data = compute_rolling_std(backtest_data)\n",
    "backtest_data = compute_z_score(backtest_data)\n",
    "\n",
    "backtest_data = compute_moving_avg(backtest_data)\n",
    "backtest_data = compute_bb(backtest_data)\n",
    "backtest_data = compute_rsi(backtest_data)"
   ]
  },
  {
   "cell_type": "code",
   "execution_count": 22,
   "id": "9b2029ef-fa7e-46eb-bc38-3976ab368f32",
   "metadata": {},
   "outputs": [],
   "source": [
    "backtest_log = create_log(backtest_data, 10000.00)"
   ]
  },
  {
   "cell_type": "code",
   "execution_count": 23,
   "id": "62fec9a5-c04c-4bf5-891e-597cf43d83b4",
   "metadata": {},
   "outputs": [],
   "source": [
    "backtest_log = vwap_normalization(backtest_log)\n",
    "\n",
    "for idx, i in enumerate(backtest_log.index):\n",
    "    if idx == 0:\n",
    "        continue\n",
    "        \n",
    "    prev_i = backtest_log.index[idx-1]\n",
    "    backtest_log.at[i, \"cash\"] = backtest_log.at[prev_i, \"cash\"]\n",
    "    backtest_log.at[i, \"position\"] = backtest_log.at[prev_i, \"position\"]\n",
    "    backtest_log.at[i, \"price\"] = backtest_data.at[i, \"close\"]\n",
    "    \n",
    "    backtest_log = bbrsi_entry(backtest_data, backtest_log, i)\n",
    "    backtest_log = bbrsi_exit(backtest_data, backtest_log, i)\n",
    "    backtest_log = vwap_sigma_stop(backtest_data, backtest_log, i)\n",
    "    backtest_log = vwap_reset(backtest_data, backtest_log, i)\n",
    "\n",
    "backtest_log = flatten(backtest_data, backtest_log)\n",
    "backtest_log = update_equity(backtest_log)"
   ]
  },
  {
   "cell_type": "markdown",
   "id": "93546aaf-c7aa-4f9e-bb50-c258e83c6ac7",
   "metadata": {},
   "source": [
    "## 5 Result Visualization"
   ]
  },
  {
   "cell_type": "code",
   "execution_count": 24,
   "id": "9cfc78dd-7eb0-446b-b19b-59fcf33f80bf",
   "metadata": {},
   "outputs": [
    {
     "data": {
      "text/html": [
       "<div>\n",
       "<style scoped>\n",
       "    .dataframe tbody tr th:only-of-type {\n",
       "        vertical-align: middle;\n",
       "    }\n",
       "\n",
       "    .dataframe tbody tr th {\n",
       "        vertical-align: top;\n",
       "    }\n",
       "\n",
       "    .dataframe thead th {\n",
       "        text-align: right;\n",
       "    }\n",
       "</style>\n",
       "<table border=\"1\" class=\"dataframe\">\n",
       "  <thead>\n",
       "    <tr style=\"text-align: right;\">\n",
       "      <th></th>\n",
       "      <th>ticker</th>\n",
       "      <th>volume</th>\n",
       "      <th>open</th>\n",
       "      <th>close</th>\n",
       "      <th>high</th>\n",
       "      <th>low</th>\n",
       "      <th>transactions</th>\n",
       "      <th>typical</th>\n",
       "      <th>vwap</th>\n",
       "      <th>rolling_std</th>\n",
       "      <th>z</th>\n",
       "      <th>moving_avg</th>\n",
       "      <th>bb_upper</th>\n",
       "      <th>bb_lower</th>\n",
       "      <th>rsi</th>\n",
       "    </tr>\n",
       "    <tr>\n",
       "      <th>window_start</th>\n",
       "      <th></th>\n",
       "      <th></th>\n",
       "      <th></th>\n",
       "      <th></th>\n",
       "      <th></th>\n",
       "      <th></th>\n",
       "      <th></th>\n",
       "      <th></th>\n",
       "      <th></th>\n",
       "      <th></th>\n",
       "      <th></th>\n",
       "      <th></th>\n",
       "      <th></th>\n",
       "      <th></th>\n",
       "      <th></th>\n",
       "    </tr>\n",
       "  </thead>\n",
       "  <tbody>\n",
       "    <tr>\n",
       "      <th>2025-09-03 09:30:00</th>\n",
       "      <td>SPY</td>\n",
       "      <td>922</td>\n",
       "      <td>643.12</td>\n",
       "      <td>643.1100</td>\n",
       "      <td>643.12</td>\n",
       "      <td>643.10</td>\n",
       "      <td>19</td>\n",
       "      <td>643.110000</td>\n",
       "      <td>643.110000</td>\n",
       "      <td>NaN</td>\n",
       "      <td>NaN</td>\n",
       "      <td>NaN</td>\n",
       "      <td>NaN</td>\n",
       "      <td>NaN</td>\n",
       "      <td>NaN</td>\n",
       "    </tr>\n",
       "    <tr>\n",
       "      <th>2025-09-03 09:32:00</th>\n",
       "      <td>SPY</td>\n",
       "      <td>531</td>\n",
       "      <td>643.04</td>\n",
       "      <td>642.9600</td>\n",
       "      <td>643.04</td>\n",
       "      <td>642.96</td>\n",
       "      <td>13</td>\n",
       "      <td>642.986667</td>\n",
       "      <td>643.064928</td>\n",
       "      <td>NaN</td>\n",
       "      <td>NaN</td>\n",
       "      <td>NaN</td>\n",
       "      <td>NaN</td>\n",
       "      <td>NaN</td>\n",
       "      <td>0.000000</td>\n",
       "    </tr>\n",
       "    <tr>\n",
       "      <th>2025-09-03 09:33:00</th>\n",
       "      <td>SPY</td>\n",
       "      <td>2498</td>\n",
       "      <td>642.97</td>\n",
       "      <td>643.0700</td>\n",
       "      <td>643.10</td>\n",
       "      <td>642.97</td>\n",
       "      <td>51</td>\n",
       "      <td>643.046667</td>\n",
       "      <td>643.053382</td>\n",
       "      <td>NaN</td>\n",
       "      <td>NaN</td>\n",
       "      <td>NaN</td>\n",
       "      <td>NaN</td>\n",
       "      <td>NaN</td>\n",
       "      <td>5.759162</td>\n",
       "    </tr>\n",
       "    <tr>\n",
       "      <th>2025-09-03 09:34:00</th>\n",
       "      <td>SPY</td>\n",
       "      <td>688</td>\n",
       "      <td>643.07</td>\n",
       "      <td>643.0700</td>\n",
       "      <td>643.07</td>\n",
       "      <td>643.07</td>\n",
       "      <td>14</td>\n",
       "      <td>643.070000</td>\n",
       "      <td>643.055847</td>\n",
       "      <td>NaN</td>\n",
       "      <td>NaN</td>\n",
       "      <td>NaN</td>\n",
       "      <td>NaN</td>\n",
       "      <td>NaN</td>\n",
       "      <td>5.759162</td>\n",
       "    </tr>\n",
       "    <tr>\n",
       "      <th>2025-09-03 09:35:00</th>\n",
       "      <td>SPY</td>\n",
       "      <td>616</td>\n",
       "      <td>643.00</td>\n",
       "      <td>642.9900</td>\n",
       "      <td>643.01</td>\n",
       "      <td>642.99</td>\n",
       "      <td>12</td>\n",
       "      <td>642.996667</td>\n",
       "      <td>643.048910</td>\n",
       "      <td>NaN</td>\n",
       "      <td>NaN</td>\n",
       "      <td>NaN</td>\n",
       "      <td>NaN</td>\n",
       "      <td>NaN</td>\n",
       "      <td>5.489326</td>\n",
       "    </tr>\n",
       "    <tr>\n",
       "      <th>...</th>\n",
       "      <td>...</td>\n",
       "      <td>...</td>\n",
       "      <td>...</td>\n",
       "      <td>...</td>\n",
       "      <td>...</td>\n",
       "      <td>...</td>\n",
       "      <td>...</td>\n",
       "      <td>...</td>\n",
       "      <td>...</td>\n",
       "      <td>...</td>\n",
       "      <td>...</td>\n",
       "      <td>...</td>\n",
       "      <td>...</td>\n",
       "      <td>...</td>\n",
       "      <td>...</td>\n",
       "    </tr>\n",
       "    <tr>\n",
       "      <th>2025-09-03 15:56:00</th>\n",
       "      <td>SPY</td>\n",
       "      <td>59704</td>\n",
       "      <td>642.34</td>\n",
       "      <td>642.4000</td>\n",
       "      <td>642.45</td>\n",
       "      <td>642.32</td>\n",
       "      <td>1149</td>\n",
       "      <td>642.390000</td>\n",
       "      <td>642.883695</td>\n",
       "      <td>0.192396</td>\n",
       "      <td>-2.514066</td>\n",
       "      <td>642.563247</td>\n",
       "      <td>643.268486</td>\n",
       "      <td>642.498904</td>\n",
       "      <td>43.437024</td>\n",
       "    </tr>\n",
       "    <tr>\n",
       "      <th>2025-09-03 15:57:00</th>\n",
       "      <td>SPY</td>\n",
       "      <td>76123</td>\n",
       "      <td>642.37</td>\n",
       "      <td>642.1700</td>\n",
       "      <td>642.39</td>\n",
       "      <td>642.12</td>\n",
       "      <td>1296</td>\n",
       "      <td>642.226667</td>\n",
       "      <td>642.881887</td>\n",
       "      <td>0.202626</td>\n",
       "      <td>-3.513306</td>\n",
       "      <td>642.544913</td>\n",
       "      <td>643.287139</td>\n",
       "      <td>642.476635</td>\n",
       "      <td>38.716664</td>\n",
       "    </tr>\n",
       "    <tr>\n",
       "      <th>2025-09-03 15:58:00</th>\n",
       "      <td>SPY</td>\n",
       "      <td>61578</td>\n",
       "      <td>642.18</td>\n",
       "      <td>642.2799</td>\n",
       "      <td>642.35</td>\n",
       "      <td>642.18</td>\n",
       "      <td>1243</td>\n",
       "      <td>642.269967</td>\n",
       "      <td>642.880528</td>\n",
       "      <td>0.207506</td>\n",
       "      <td>-2.894507</td>\n",
       "      <td>642.534577</td>\n",
       "      <td>643.295540</td>\n",
       "      <td>642.465516</td>\n",
       "      <td>41.980448</td>\n",
       "    </tr>\n",
       "    <tr>\n",
       "      <th>2025-09-03 15:59:00</th>\n",
       "      <td>SPY</td>\n",
       "      <td>111785</td>\n",
       "      <td>642.26</td>\n",
       "      <td>642.3750</td>\n",
       "      <td>642.41</td>\n",
       "      <td>642.22</td>\n",
       "      <td>1483</td>\n",
       "      <td>642.335000</td>\n",
       "      <td>642.878337</td>\n",
       "      <td>0.207586</td>\n",
       "      <td>-2.424714</td>\n",
       "      <td>642.532743</td>\n",
       "      <td>643.293510</td>\n",
       "      <td>642.463165</td>\n",
       "      <td>44.739372</td>\n",
       "    </tr>\n",
       "    <tr>\n",
       "      <th>2025-09-03 16:00:00</th>\n",
       "      <td>SPY</td>\n",
       "      <td>99682</td>\n",
       "      <td>642.37</td>\n",
       "      <td>642.4000</td>\n",
       "      <td>642.48</td>\n",
       "      <td>642.27</td>\n",
       "      <td>1467</td>\n",
       "      <td>642.383333</td>\n",
       "      <td>642.876571</td>\n",
       "      <td>0.207785</td>\n",
       "      <td>-2.293578</td>\n",
       "      <td>642.530743</td>\n",
       "      <td>643.292141</td>\n",
       "      <td>642.461001</td>\n",
       "      <td>45.477719</td>\n",
       "    </tr>\n",
       "  </tbody>\n",
       "</table>\n",
       "<p>385 rows × 15 columns</p>\n",
       "</div>"
      ],
      "text/plain": [
       "                    ticker  volume    open     close    high     low  \\\n",
       "window_start                                                           \n",
       "2025-09-03 09:30:00    SPY     922  643.12  643.1100  643.12  643.10   \n",
       "2025-09-03 09:32:00    SPY     531  643.04  642.9600  643.04  642.96   \n",
       "2025-09-03 09:33:00    SPY    2498  642.97  643.0700  643.10  642.97   \n",
       "2025-09-03 09:34:00    SPY     688  643.07  643.0700  643.07  643.07   \n",
       "2025-09-03 09:35:00    SPY     616  643.00  642.9900  643.01  642.99   \n",
       "...                    ...     ...     ...       ...     ...     ...   \n",
       "2025-09-03 15:56:00    SPY   59704  642.34  642.4000  642.45  642.32   \n",
       "2025-09-03 15:57:00    SPY   76123  642.37  642.1700  642.39  642.12   \n",
       "2025-09-03 15:58:00    SPY   61578  642.18  642.2799  642.35  642.18   \n",
       "2025-09-03 15:59:00    SPY  111785  642.26  642.3750  642.41  642.22   \n",
       "2025-09-03 16:00:00    SPY   99682  642.37  642.4000  642.48  642.27   \n",
       "\n",
       "                     transactions     typical        vwap  rolling_std  \\\n",
       "window_start                                                             \n",
       "2025-09-03 09:30:00            19  643.110000  643.110000          NaN   \n",
       "2025-09-03 09:32:00            13  642.986667  643.064928          NaN   \n",
       "2025-09-03 09:33:00            51  643.046667  643.053382          NaN   \n",
       "2025-09-03 09:34:00            14  643.070000  643.055847          NaN   \n",
       "2025-09-03 09:35:00            12  642.996667  643.048910          NaN   \n",
       "...                           ...         ...         ...          ...   \n",
       "2025-09-03 15:56:00          1149  642.390000  642.883695     0.192396   \n",
       "2025-09-03 15:57:00          1296  642.226667  642.881887     0.202626   \n",
       "2025-09-03 15:58:00          1243  642.269967  642.880528     0.207506   \n",
       "2025-09-03 15:59:00          1483  642.335000  642.878337     0.207586   \n",
       "2025-09-03 16:00:00          1467  642.383333  642.876571     0.207785   \n",
       "\n",
       "                            z  moving_avg    bb_upper    bb_lower        rsi  \n",
       "window_start                                                                  \n",
       "2025-09-03 09:30:00       NaN         NaN         NaN         NaN        NaN  \n",
       "2025-09-03 09:32:00       NaN         NaN         NaN         NaN   0.000000  \n",
       "2025-09-03 09:33:00       NaN         NaN         NaN         NaN   5.759162  \n",
       "2025-09-03 09:34:00       NaN         NaN         NaN         NaN   5.759162  \n",
       "2025-09-03 09:35:00       NaN         NaN         NaN         NaN   5.489326  \n",
       "...                       ...         ...         ...         ...        ...  \n",
       "2025-09-03 15:56:00 -2.514066  642.563247  643.268486  642.498904  43.437024  \n",
       "2025-09-03 15:57:00 -3.513306  642.544913  643.287139  642.476635  38.716664  \n",
       "2025-09-03 15:58:00 -2.894507  642.534577  643.295540  642.465516  41.980448  \n",
       "2025-09-03 15:59:00 -2.424714  642.532743  643.293510  642.463165  44.739372  \n",
       "2025-09-03 16:00:00 -2.293578  642.530743  643.292141  642.461001  45.477719  \n",
       "\n",
       "[385 rows x 15 columns]"
      ]
     },
     "execution_count": 24,
     "metadata": {},
     "output_type": "execute_result"
    }
   ],
   "source": [
    "backtest_data"
   ]
  },
  {
   "cell_type": "code",
   "execution_count": 25,
   "id": "08dc9911-5f53-442a-b1a7-a88b6674f210",
   "metadata": {},
   "outputs": [
    {
     "data": {
      "text/html": [
       "<div>\n",
       "<style scoped>\n",
       "    .dataframe tbody tr th:only-of-type {\n",
       "        vertical-align: middle;\n",
       "    }\n",
       "\n",
       "    .dataframe tbody tr th {\n",
       "        vertical-align: top;\n",
       "    }\n",
       "\n",
       "    .dataframe thead th {\n",
       "        text-align: right;\n",
       "    }\n",
       "</style>\n",
       "<table border=\"1\" class=\"dataframe\">\n",
       "  <thead>\n",
       "    <tr style=\"text-align: right;\">\n",
       "      <th></th>\n",
       "      <th>cash</th>\n",
       "      <th>position</th>\n",
       "      <th>price</th>\n",
       "      <th>equity</th>\n",
       "      <th>status</th>\n",
       "    </tr>\n",
       "    <tr>\n",
       "      <th>window_start</th>\n",
       "      <th></th>\n",
       "      <th></th>\n",
       "      <th></th>\n",
       "      <th></th>\n",
       "      <th></th>\n",
       "    </tr>\n",
       "  </thead>\n",
       "  <tbody>\n",
       "    <tr>\n",
       "      <th>2025-09-03 09:30:00</th>\n",
       "      <td>10000.0</td>\n",
       "      <td>0.0</td>\n",
       "      <td>643.1100</td>\n",
       "      <td>10000.0</td>\n",
       "      <td>Normalization</td>\n",
       "    </tr>\n",
       "    <tr>\n",
       "      <th>2025-09-03 09:32:00</th>\n",
       "      <td>10000.0</td>\n",
       "      <td>0.0</td>\n",
       "      <td>642.9600</td>\n",
       "      <td>10000.0</td>\n",
       "      <td>Normalization</td>\n",
       "    </tr>\n",
       "    <tr>\n",
       "      <th>2025-09-03 09:33:00</th>\n",
       "      <td>10000.0</td>\n",
       "      <td>0.0</td>\n",
       "      <td>643.0700</td>\n",
       "      <td>10000.0</td>\n",
       "      <td>Normalization</td>\n",
       "    </tr>\n",
       "    <tr>\n",
       "      <th>2025-09-03 09:34:00</th>\n",
       "      <td>10000.0</td>\n",
       "      <td>0.0</td>\n",
       "      <td>643.0700</td>\n",
       "      <td>10000.0</td>\n",
       "      <td>Normalization</td>\n",
       "    </tr>\n",
       "    <tr>\n",
       "      <th>2025-09-03 09:35:00</th>\n",
       "      <td>10000.0</td>\n",
       "      <td>0.0</td>\n",
       "      <td>642.9900</td>\n",
       "      <td>10000.0</td>\n",
       "      <td>Normalization</td>\n",
       "    </tr>\n",
       "    <tr>\n",
       "      <th>...</th>\n",
       "      <td>...</td>\n",
       "      <td>...</td>\n",
       "      <td>...</td>\n",
       "      <td>...</td>\n",
       "      <td>...</td>\n",
       "    </tr>\n",
       "    <tr>\n",
       "      <th>2025-09-03 15:56:00</th>\n",
       "      <td>10002.4</td>\n",
       "      <td>0.0</td>\n",
       "      <td>642.4000</td>\n",
       "      <td>10002.4</td>\n",
       "      <td>OK</td>\n",
       "    </tr>\n",
       "    <tr>\n",
       "      <th>2025-09-03 15:57:00</th>\n",
       "      <td>10002.4</td>\n",
       "      <td>0.0</td>\n",
       "      <td>642.1700</td>\n",
       "      <td>10002.4</td>\n",
       "      <td>OK</td>\n",
       "    </tr>\n",
       "    <tr>\n",
       "      <th>2025-09-03 15:58:00</th>\n",
       "      <td>10002.4</td>\n",
       "      <td>0.0</td>\n",
       "      <td>642.2799</td>\n",
       "      <td>10002.4</td>\n",
       "      <td>OK</td>\n",
       "    </tr>\n",
       "    <tr>\n",
       "      <th>2025-09-03 15:59:00</th>\n",
       "      <td>10002.4</td>\n",
       "      <td>0.0</td>\n",
       "      <td>642.3750</td>\n",
       "      <td>10002.4</td>\n",
       "      <td>OK</td>\n",
       "    </tr>\n",
       "    <tr>\n",
       "      <th>2025-09-03 16:00:00</th>\n",
       "      <td>10002.4</td>\n",
       "      <td>0.0</td>\n",
       "      <td>642.4000</td>\n",
       "      <td>10002.4</td>\n",
       "      <td>OK</td>\n",
       "    </tr>\n",
       "  </tbody>\n",
       "</table>\n",
       "<p>385 rows × 5 columns</p>\n",
       "</div>"
      ],
      "text/plain": [
       "                        cash  position     price   equity         status\n",
       "window_start                                                            \n",
       "2025-09-03 09:30:00  10000.0       0.0  643.1100  10000.0  Normalization\n",
       "2025-09-03 09:32:00  10000.0       0.0  642.9600  10000.0  Normalization\n",
       "2025-09-03 09:33:00  10000.0       0.0  643.0700  10000.0  Normalization\n",
       "2025-09-03 09:34:00  10000.0       0.0  643.0700  10000.0  Normalization\n",
       "2025-09-03 09:35:00  10000.0       0.0  642.9900  10000.0  Normalization\n",
       "...                      ...       ...       ...      ...            ...\n",
       "2025-09-03 15:56:00  10002.4       0.0  642.4000  10002.4             OK\n",
       "2025-09-03 15:57:00  10002.4       0.0  642.1700  10002.4             OK\n",
       "2025-09-03 15:58:00  10002.4       0.0  642.2799  10002.4             OK\n",
       "2025-09-03 15:59:00  10002.4       0.0  642.3750  10002.4             OK\n",
       "2025-09-03 16:00:00  10002.4       0.0  642.4000  10002.4             OK\n",
       "\n",
       "[385 rows x 5 columns]"
      ]
     },
     "execution_count": 25,
     "metadata": {},
     "output_type": "execute_result"
    }
   ],
   "source": [
    "backtest_log"
   ]
  },
  {
   "cell_type": "markdown",
   "id": "187864ea-27a3-4ed0-834b-5212f8497c9a",
   "metadata": {},
   "source": [
    "## 6 Notes"
   ]
  },
  {
   "cell_type": "markdown",
   "id": "7714187d-ede8-48b8-950c-84ee3e3efe97",
   "metadata": {},
   "source": [
    "### 6.1 To-Do List\n",
    "* Adjust `datafeed` to accept real time data from `polygon.io`\n",
    "* Update broker order functions to connect with broker API\n",
    "* Optimize `enumerate` in backtest\n",
    "* Implement `vwap_time_stop` function\n",
    "* Figure out the live minute bar vs closing price in backtest"
   ]
  },
  {
   "cell_type": "markdown",
   "id": "6bff8ad4-91be-4a32-b4d2-035313298b89",
   "metadata": {},
   "source": [
    "### 6.2 Caveats\n",
    "* Many intraday traders only watch VWAP and Bollinger Bands\n",
    "* If we require both VWAP z-score extreme and RSI extreme, signals become rare\n",
    "* If we are aiming for higher win-rate, fewer trades, \"set it and forget it,\" then RSI filter may be useful\n",
    "* Experiment with softer RSI filters (40/60) to balance between signal quality and quantity"
   ]
  },
  {
   "cell_type": "code",
   "execution_count": null,
   "id": "ef72f647-f863-4c21-9caa-53d86d496956",
   "metadata": {},
   "outputs": [],
   "source": []
  }
 ],
 "metadata": {
  "kernelspec": {
   "display_name": "Python [conda env:base] *",
   "language": "python",
   "name": "conda-base-py"
  },
  "language_info": {
   "codemirror_mode": {
    "name": "ipython",
    "version": 3
   },
   "file_extension": ".py",
   "mimetype": "text/x-python",
   "name": "python",
   "nbconvert_exporter": "python",
   "pygments_lexer": "ipython3",
   "version": "3.13.5"
  }
 },
 "nbformat": 4,
 "nbformat_minor": 5
}
