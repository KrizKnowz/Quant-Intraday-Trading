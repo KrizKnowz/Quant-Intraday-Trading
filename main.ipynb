{
 "cells": [
  {
   "cell_type": "markdown",
   "id": "d5210535-30c0-4bdc-a117-994de655d934",
   "metadata": {},
   "source": [
    "# Toy Intraday Algo"
   ]
  },
  {
   "cell_type": "markdown",
   "id": "99ac0ef9-daa5-4408-a137-3a5dee80dbb9",
   "metadata": {},
   "source": [
    "## Basic Framework"
   ]
  },
  {
   "cell_type": "markdown",
   "id": "a94d6f93-e6e2-4d66-abef-bf670f84a793",
   "metadata": {},
   "source": [
    "### 0 Project meta (root)\n",
    "* 0.1 `README.md`\n",
    "* 0.2 `pyproject.toml`\n",
    "* 0.3 Makefile\n",
    "* 0.4 `.gitignore`"
   ]
  },
  {
   "cell_type": "markdown",
   "id": "2dc22ef4-cb97-44ed-a0c0-727937048da9",
   "metadata": {},
   "source": [
    "### 1 `config/`: Configuration\n",
    "* 1.1 `config/settings.yaml`: global parameters\n",
    "* 1.2 `.env.example`: API keys, etc."
   ]
  },
  {
   "cell_type": "markdown",
   "id": "3e28600e-76fe-4e76-8e44-8d3ce62b901c",
   "metadata": {},
   "source": [
    "### 2 `utils/`: Utilities\n",
    "* 2.1 `utils/calendars.py`: market hours/holidays\n",
    "* 2.2 `utils/time.py`: tz handling\n",
    "* 2.3 `utils/io.py`: parquet/cache helpers\n",
    "* 2.4 `utils/validation.py`: data & backtest guards\n",
    "* 2.5 `utils/seeds.py`: Global RNG control for reproducibility (slippage noise, bootstraps)"
   ]
  },
  {
   "cell_type": "markdown",
   "id": "e0a1cddc-786c-454c-80d3-67aa3eb48d3c",
   "metadata": {},
   "source": [
    "### 3 `data/`: Data: csv minute bars (symbol, datetime, open, high, low, close, volume)\n",
    "* 3.1 `data/schema.py`: Pydantic models (or pandera) to validate every input table (OHLCV, corporate actions)\n",
    "* 3.2 `data/ingest.py`\n",
    "* 3.3 Corporate actions: Split/dividend adjustment utilities"
   ]
  },
  {
   "cell_type": "markdown",
   "id": "7db49c1e-232f-40cc-afac-cdfa5ea254b5",
   "metadata": {},
   "source": [
    "### 4 `engine/`: Engine (core): define the abstractions before strategies\n",
    "* 4.1 `engine/orders.py`: Order objects & enums (MKT/LMT/STOP, time-in-force, reduce-only)\n",
    "* 4.2 `engine/broker_core.py`: Paper broker (fills, slippage, fees)\n",
    "* 4.3 `engine/risk.py`: Stops, daily loss limits, max leverage\n",
    "* 4.4 `engine/datafeed.py`: Loads & resamples data\n",
    "* 4.5 Feature store: Cache precomputed indicators per (symbol, day, params)\n",
    "* 4.6 Slippage models: e.g., `engine/fixed_bps.py`, `engine/spread_atr.py`\n",
    "* 4.7 Cost models: fees, SEC/TAF, borrow (if short)\n",
    "* 4.8 Position sizing: e.g., `engine/vol_target.py`, `engine/notional_cap.py`\n",
    "* 4.9 Portfolio: `engine/allocator.py`, `engine/exposure.py`\n",
    "* 4.10 `engine/trade_log.py`: Canonical trade/position ledger (fills, fees, M2M, reasons for entry/exit)\n",
    "* 4.11 `engine/metrics.py`: PnL, Sharpe, drawdown, hit rate\n",
    "* 4.12 `engine/backtester.py`: Event loop"
   ]
  },
  {
   "cell_type": "markdown",
   "id": "a6f66bb7-ce65-4e6b-80c1-e453671616f8",
   "metadata": {},
   "source": [
    "### 5 `strategies/`: Strategies\n",
    "* 5.1 `strategies/base.py`: Strategy interface\n",
    "#### Mean Reversion\n",
    "* **5.2** `strategies/vwap_mean_reversion.py`: Go long when price is below session VWAP by a threshold (betting it reverts upward) and short when above (betting it reverts downward)\n",
    "* **5.3** `strategies/bollinger_mean_reversion.py`: Fade moves when price closes outside Bollinger Bands\n",
    "* 5.4 `strats/rsi_reversal.py` Go long when RSI < 30, short when RSI > 70 (intraday overbought/oversold)\n",
    "* **5.5** `strategies/opening_reversal.py`: Fade extreme opening gaps or first-N-minute spikes\n",
    "* **5.6** `strategies/pairs_mean_reversion.py`: Trade z-score of spread between two correlated stocks intraday\n",
    "#### Momentum / Trend\n",
    "* 5.7 `strategies/breakout.py`: Buy when price breaks above a recent rolling high, and short when it breaks below a rolling low (betting on momentum continuation)\n",
    "* 5.8 `strategies/intraday_momentum.py`: Enter when returns over last N bars show strong directional trend\n",
    "* **5.9** `strategies/moving_average_crossover.py`: Long when fast MA crosses above slow MA; short on reverse\n",
    "* 5.10 `strategies/intraday_breakout_volatility.py`: Breakouts filtered by volatility expansion (ATR filter)\n",
    "#### Statistical / Volatility\n",
    "* 5.11 `strategies/volatility_scalping.py`: Trade volatility crush: fade IV proxy spikes (e.g., realized intraday range)\n",
    "* 5.12 `strategies/momentum_vol_filter.py`: Only trade breakouts if realized vol > rolling vol threshold\n",
    "#### Simpler Heuristics\n",
    "* 5.13 `strategies/time_of_day_bias.py`: Capture structural effects (e.g., morning momentum, afternoon mean-reversion)\n",
    "* 5.14 `strategies/overnight_gap_follow.py`: Trade intraday continuation of large overnight gaps (long if up gap, short if down)"
   ]
  },
  {
   "cell_type": "markdown",
   "id": "d2b2f27d-bcce-4971-bcfa-e5f756f81622",
   "metadata": {},
   "source": [
    "### 6 `run_backtest.py`: Backtest (CLI entry point)"
   ]
  },
  {
   "cell_type": "markdown",
   "id": "7ced7283-8ea9-4580-9d88-24f50e4b4787",
   "metadata": {},
   "source": [
    "### 7 `experiments/`: Experiments\n",
    "* 7.1 `experiments/grid_search.py`\n",
    "* 7.2 `experiments/walk_forward.py`\n",
    "* 7.3 Registry: results (CSV/JSON/SQLite of runs)"
   ]
  },
  {
   "cell_type": "markdown",
   "id": "020d8c16-9bef-4b02-a9be-c9226a74349e",
   "metadata": {},
   "source": [
    "### 8 `reporting/`: Reporting\n",
    "* 8.1 `reporting/tearsheet.py`: summary figs & HTML report\n",
    "* 8.2 `reporting/plots.py`"
   ]
  },
  {
   "cell_type": "markdown",
   "id": "83a0fd7a-a6a1-4154-a5cb-d317f6b6b551",
   "metadata": {},
   "source": [
    "### 9 `adapters/`: Adapters (optional until paper/live)\n",
    "* 9.1 Data: vendor-specific loaders\n",
    "* 9.2 Broker: paper/live API clients"
   ]
  },
  {
   "cell_type": "markdown",
   "id": "cd06f87f-b74d-40c9-a9ca-1b470101bdc2",
   "metadata": {},
   "source": [
    "### 10 `live_runner/`: Live runner (optional)\n",
    "* 10.1 `live_runner/run_live.py`: same interface as backtester"
   ]
  },
  {
   "cell_type": "markdown",
   "id": "1f00c039-8009-4976-a765-f5fc04dc4b17",
   "metadata": {},
   "source": [
    "### 11 `tests/`: Tests\n",
    "* 11.1 `tests/test_datafeed.py`\n",
    "* 11.2 `tests/test_broker.py`\n",
    "* 11.3 `tests/test_metrics.py`\n",
    "* 11.4 `tests/test_strategies.py`"
   ]
  },
  {
   "cell_type": "markdown",
   "id": "48c87851-a213-460a-b410-652a06de893b",
   "metadata": {},
   "source": [
    "### 12 `notebooks/`: Notebooks\n",
    "* 12.1 `note/explore.ipynb`: quick EDA & parameter sweeps"
   ]
  },
  {
   "cell_type": "markdown",
   "id": "7fa3c242-4122-4a6f-8ca3-14e1bad9d5c1",
   "metadata": {},
   "source": [
    "### 13 `artifacts/`: Artifacts\n",
    "* 13.1 State: run outputs, checkpoints\n",
    "* 13.2 Logs"
   ]
  },
  {
   "cell_type": "code",
   "execution_count": null,
   "id": "4719c993-0828-4402-904c-db1cf4349e27",
   "metadata": {},
   "outputs": [],
   "source": []
  }
 ],
 "metadata": {
  "kernelspec": {
   "display_name": "Python [conda env:base] *",
   "language": "python",
   "name": "conda-base-py"
  },
  "language_info": {
   "codemirror_mode": {
    "name": "ipython",
    "version": 3
   },
   "file_extension": ".py",
   "mimetype": "text/x-python",
   "name": "python",
   "nbconvert_exporter": "python",
   "pygments_lexer": "ipython3",
   "version": "3.13.5"
  }
 },
 "nbformat": 4,
 "nbformat_minor": 5
}
